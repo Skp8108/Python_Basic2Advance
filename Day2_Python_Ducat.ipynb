{
 "cells": [
  {
   "cell_type": "code",
   "execution_count": 5,
   "metadata": {},
   "outputs": [
    {
     "name": "stdout",
     "output_type": "stream",
     "text": [
      "range(0, 10)\n",
      "range(1, 10)\n",
      "range(1, 10, 2)\n"
     ]
    }
   ],
   "source": [
    "#Range in Python # range is a collection\n",
    "# range()\n",
    "# range(stop)\n",
    "# range(start,stop)\n",
    "# range(start,stop,step)\n",
    "print(range(10))\n",
    "print(range(1,10))\n",
    "print(range(1,10,2))"
   ]
  },
  {
   "cell_type": "code",
   "execution_count": 1,
   "metadata": {},
   "outputs": [
    {
     "name": "stdout",
     "output_type": "stream",
     "text": [
      "For loop Example\n",
      "0 1 2 3 4 5 6 7 8 9 Thanks\n",
      "2 4 6 8 10 12 14 16 18 20 Thanks\n"
     ]
    }
   ],
   "source": [
    "#Loop in python\n",
    "# for loop and while loop\n",
    "# syntax of for loop\n",
    "# for object in collection:\n",
    "    #logic [loop body finish then only else part will be executed]\n",
    "# else: # it is optional\n",
    "    #logic\n",
    "#for loop example\n",
    "#program1\n",
    "print(\"For loop Example\")\n",
    "for x in range(10):\n",
    "    print(x,end=' ')\n",
    "else:\n",
    "    print(\"Thanks\")\n",
    "    \n",
    "#program2\n",
    "for x in range(2,21,2):\n",
    "    print(x,end=' ')\n",
    "else:\n",
    "    print(\"Thanks\")"
   ]
  },
  {
   "cell_type": "code",
   "execution_count": 5,
   "metadata": {},
   "outputs": [
    {
     "name": "stdout",
     "output_type": "stream",
     "text": [
      "***Pattern***\n",
      "1\n",
      "121\n",
      "12321\n",
      "1234321\n",
      "123454321\n"
     ]
    }
   ],
   "source": [
    "#Q \n",
    "#   1  \n",
    "#   121  \n",
    "#   12321  \n",
    "#   1234321  \n",
    "#   123454321 \n",
    "print(\"***Pattern***\")\n",
    "i=1\n",
    "j=1\n",
    "for x in range(5):\n",
    "    print(i)\n",
    "    j=j*10+1\n",
    "    i=j*j\n",
    "\n"
   ]
  },
  {
   "cell_type": "code",
   "execution_count": 13,
   "metadata": {},
   "outputs": [
    {
     "name": "stdout",
     "output_type": "stream",
     "text": [
      "1\n",
      "2\n",
      "3\n",
      "4\n",
      "5\n",
      "6\n",
      "7\n",
      "8\n",
      "9\n",
      "10\n",
      "Sum of Table is:-  55\n"
     ]
    }
   ],
   "source": [
    "#Q print 1 to 10 with total sum of table\n",
    "sum=0\n",
    "for x in range(1,11):\n",
    "    print(x)\n",
    "    sum +=x\n",
    "else:\n",
    "    print(\"Sum of Table is:- \",sum)\n",
    "    "
   ]
  },
  {
   "cell_type": "code",
   "execution_count": 4,
   "metadata": {},
   "outputs": [
    {
     "name": "stdout",
     "output_type": "stream",
     "text": [
      "1 2 3 4 5 6 7 8 9 \n",
      "1 2 3 4 5 6 7 8 9 \n",
      "1 2 3 4 5 6 7 8 9 \n",
      "1 2 3 4 5 6 7 8 9 \n"
     ]
    }
   ],
   "source": [
    "#Nested Loop [Loop within Loop]\n",
    "#for\n",
    "  #for\n",
    "for x in range(1,5): #outer loop\n",
    "    for y in range(1,10): #inner loop\n",
    "        print(y,end='')\n",
    "    else:\n",
    "        print()"
   ]
  },
  {
   "cell_type": "code",
   "execution_count": 7,
   "metadata": {},
   "outputs": [
    {
     "name": "stdout",
     "output_type": "stream",
     "text": [
      "1 \n",
      "1 2 \n",
      "1 2 3 \n",
      "1 2 3 4 \n",
      "1 2 3 4 5 \n"
     ]
    }
   ],
   "source": [
    "#Q \n",
    "#  1\n",
    "#  12\n",
    "#  123\n",
    "#  1234\n",
    "#  12345\n",
    "for x in range(1,6):\n",
    "    for y in range(1,x+1):\n",
    "        print(y,end=' ')\n",
    "    else:\n",
    "        print()"
   ]
  },
  {
   "cell_type": "code",
   "execution_count": 8,
   "metadata": {},
   "outputs": [
    {
     "name": "stdout",
     "output_type": "stream",
     "text": [
      "*****\n"
     ]
    }
   ],
   "source": [
    "print('*'*5)"
   ]
  },
  {
   "cell_type": "code",
   "execution_count": 9,
   "metadata": {},
   "outputs": [
    {
     "name": "stdout",
     "output_type": "stream",
     "text": [
      "*\n",
      "***\n",
      "*****\n",
      "*******\n",
      "*********\n"
     ]
    }
   ],
   "source": [
    "#Q \n",
    "# *\n",
    "# ***\n",
    "# *****\n",
    "# *******\n",
    "# *********\n",
    "for x in range(1,10,2):\n",
    "    print('*'*x)\n"
   ]
  },
  {
   "cell_type": "code",
   "execution_count": 11,
   "metadata": {},
   "outputs": [
    {
     "name": "stdout",
     "output_type": "stream",
     "text": [
      "     *\n",
      "    ***\n",
      "   *****\n",
      "  *******\n",
      " *********\n"
     ]
    }
   ],
   "source": [
    "# Q\n",
    "#     *\n",
    "#    ***\n",
    "#   *****\n",
    "#  *******\n",
    "# *********\n",
    "s=5\n",
    "for x in range(1,10,2):\n",
    "    print(' '*s,end='')\n",
    "    print('*'*x)\n",
    "    s -=1"
   ]
  },
  {
   "cell_type": "code",
   "execution_count": 14,
   "metadata": {},
   "outputs": [
    {
     "name": "stdout",
     "output_type": "stream",
     "text": [
      "     *\n",
      "    ***\n",
      "   *****\n",
      "  *******\n",
      " *********\n"
     ]
    }
   ],
   "source": [
    "# Q\n",
    "#     *\n",
    "#    ***\n",
    "#   *****\n",
    "#  *******\n",
    "# *********\n",
    "s=5\n",
    "for x in range(1,10,2):\n",
    "    for y in range(s):\n",
    "        print(end=' ')\n",
    "    print('*'*x)\n",
    "    s -=1"
   ]
  },
  {
   "cell_type": "code",
   "execution_count": null,
   "metadata": {},
   "outputs": [],
   "source": []
  }
 ],
 "metadata": {
  "kernelspec": {
   "display_name": "Python 3",
   "language": "python",
   "name": "python3"
  },
  "language_info": {
   "codemirror_mode": {
    "name": "ipython",
    "version": 3
   },
   "file_extension": ".py",
   "mimetype": "text/x-python",
   "name": "python",
   "nbconvert_exporter": "python",
   "pygments_lexer": "ipython3",
   "version": "3.8.3"
  }
 },
 "nbformat": 4,
 "nbformat_minor": 4
}
