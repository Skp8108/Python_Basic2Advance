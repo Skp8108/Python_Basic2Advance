{
 "cells": [
  {
   "cell_type": "code",
   "execution_count": 2,
   "metadata": {},
   "outputs": [
    {
     "name": "stdout",
     "output_type": "stream",
     "text": [
      "1\n",
      "11\n",
      "121\n",
      "1331\n",
      "14641\n",
      "161051\n"
     ]
    }
   ],
   "source": [
    "#Pattern 1:\n",
    "#1\n",
    "#11\n",
    "#121\n",
    "#1331\n",
    "#14641\n",
    "#161051\n",
    "i=11\n",
    "for x in range(6):\n",
    "    print(i**x)   "
   ]
  },
  {
   "cell_type": "code",
   "execution_count": 5,
   "metadata": {},
   "outputs": [
    {
     "name": "stdout",
     "output_type": "stream",
     "text": [
      "10 9 8 7 6 5 4 3 2 1 "
     ]
    }
   ],
   "source": [
    "#Reverse in for loop\n",
    "for x in range(10,0,-1):\n",
    "    print(x,end=' ')"
   ]
  },
  {
   "cell_type": "code",
   "execution_count": 10,
   "metadata": {},
   "outputs": [
    {
     "name": "stdout",
     "output_type": "stream",
     "text": [
      "54321\n",
      "4321\n",
      "321\n",
      "21\n",
      "1\n"
     ]
    }
   ],
   "source": [
    "#Pattern 2::\n",
    "#  54321\n",
    "#  4321  \n",
    "#  321\n",
    "#  21\n",
    "#  1\n",
    "for x in range(5,0,-1):\n",
    "    for y in range(x,0,-1):\n",
    "        print(y,end='')\n",
    "    else:\n",
    "        print()"
   ]
  },
  {
   "cell_type": "code",
   "execution_count": 11,
   "metadata": {},
   "outputs": [
    {
     "name": "stdout",
     "output_type": "stream",
     "text": [
      "55555\n",
      "4444\n",
      "333\n",
      "22\n",
      "1\n"
     ]
    }
   ],
   "source": [
    "#Pattern 3:\n",
    "#55555\n",
    "#4444\n",
    "#333\n",
    "#22\n",
    "#1\n",
    "for x in range(5,0,-1):\n",
    "    for y in range(x):\n",
    "        print(x,end='')\n",
    "    else:\n",
    "        print()"
   ]
  },
  {
   "cell_type": "code",
   "execution_count": 12,
   "metadata": {},
   "outputs": [
    {
     "name": "stdout",
     "output_type": "stream",
     "text": [
      "A\n",
      "65\n"
     ]
    }
   ],
   "source": [
    "#ASCII VALUE(256)\n",
    "# A-Z(65-90)\n",
    "#a-z(97-122)\n",
    "#Two function to print Ascii value\n",
    "#chr()\n",
    "#ord()\n",
    "print(chr(65)) # it gives alphabet as output based on ascii value\n",
    "print(ord('A')) # it gives ascii value based on alphabet"
   ]
  },
  {
   "cell_type": "code",
   "execution_count": 15,
   "metadata": {},
   "outputs": [
    {
     "name": "stdout",
     "output_type": "stream",
     "text": [
      "A B C D E F G H I J K L M N O P Q R S T U V W X Y Z "
     ]
    }
   ],
   "source": [
    "for x in range(65,91):\n",
    "    print(chr(x),end=' ')\n"
   ]
  },
  {
   "cell_type": "code",
   "execution_count": 19,
   "metadata": {},
   "outputs": [
    {
     "name": "stdout",
     "output_type": "stream",
     "text": [
      "abcd\n",
      "efgh\n",
      "ijkl\n",
      "mnop\n",
      "qrst\n",
      "uvwx\n",
      "yz{|\n"
     ]
    }
   ],
   "source": [
    "i=97\n",
    "for x in range(7):\n",
    "    for y in range(4):\n",
    "        print(chr(i),end='')\n",
    "        i +=1\n",
    "    else:\n",
    "        print()"
   ]
  },
  {
   "cell_type": "code",
   "execution_count": 20,
   "metadata": {},
   "outputs": [
    {
     "name": "stdout",
     "output_type": "stream",
     "text": [
      "abcd\n",
      "defg\n",
      "ghij\n",
      "jklm\n",
      "mnop\n",
      "pqrs\n",
      "stuv\n",
      "vwxy\n",
      "yz{|\n"
     ]
    }
   ],
   "source": [
    "i=97\n",
    "for x in range(9):\n",
    "    for y in range(4):\n",
    "        print(chr(i),end='')\n",
    "        i +=1\n",
    "    else:\n",
    "        print()\n",
    "        i -=1"
   ]
  },
  {
   "cell_type": "code",
   "execution_count": 18,
   "metadata": {},
   "outputs": [
    {
     "name": "stdout",
     "output_type": "stream",
     "text": [
      "     *\n",
      "    **\n",
      "   ***\n",
      "  ****\n",
      " *****\n",
      "******\n"
     ]
    }
   ],
   "source": [
    "#Pattern 4:\n",
    "'''\n",
    "     *\n",
    "    **\n",
    "   ***\n",
    "  ****\n",
    " *****\n",
    "******'''\n",
    "s=5\n",
    "for x in range(1,7):\n",
    "        print(' '*s,end='')\n",
    "        print('*'*x,end='')\n",
    "        s -=1\n",
    "        print()\n",
    "    \n",
    "\n"
   ]
  },
  {
   "cell_type": "code",
   "execution_count": 6,
   "metadata": {},
   "outputs": [
    {
     "name": "stdout",
     "output_type": "stream",
     "text": [
      "*****\n",
      "*****\n",
      "*****\n",
      "*****\n",
      "*****\n"
     ]
    }
   ],
   "source": [
    "#Pattern 5:\n",
    "'''\n",
    "*****\n",
    "*****\n",
    "*****\n",
    "*****\n",
    "*****'''\n",
    "for x in range(5):\n",
    "        print('*'*5,end='')\n",
    "        print()"
   ]
  },
  {
   "cell_type": "code",
   "execution_count": 11,
   "metadata": {},
   "outputs": [
    {
     "name": "stdout",
     "output_type": "stream",
     "text": [
      "11111\n",
      "22222\n",
      "33333\n",
      "44444\n",
      "55555\n"
     ]
    }
   ],
   "source": [
    "#Pattern 6:\n",
    "'''\n",
    "11111\n",
    "22222\n",
    "33333\n",
    "44444\n",
    "55555'''\n",
    "for x in range(1,6):\n",
    "    for y in range(5):\n",
    "        print(x,end='')\n",
    "    print()\n",
    "    "
   ]
  },
  {
   "cell_type": "code",
   "execution_count": 4,
   "metadata": {},
   "outputs": [
    {
     "name": "stdout",
     "output_type": "stream",
     "text": [
      "12345\n",
      "12345\n",
      "12345\n",
      "12345\n",
      "12345\n"
     ]
    }
   ],
   "source": [
    "#Pattern 6:\n",
    "'''\n",
    "12345\n",
    "12345\n",
    "12345\n",
    "12345\n",
    "12345'''\n",
    "for x in range(5):\n",
    "    for y in range(1,6):\n",
    "        print(y,end='')\n",
    "    print()"
   ]
  },
  {
   "cell_type": "code",
   "execution_count": 3,
   "metadata": {},
   "outputs": [
    {
     "name": "stdout",
     "output_type": "stream",
     "text": [
      "1\n",
      "12\n",
      "123\n",
      "1234\n",
      "12345\n"
     ]
    }
   ],
   "source": [
    "#Pattern 7:\n",
    "'''\n",
    "1\n",
    "12\n",
    "123\n",
    "1234\n",
    "12345'''\n",
    "for x in range(1,6):\n",
    "    for y in range(1,x+1):\n",
    "        print(y,end='')\n",
    "    print()"
   ]
  },
  {
   "cell_type": "code",
   "execution_count": 5,
   "metadata": {},
   "outputs": [
    {
     "name": "stdout",
     "output_type": "stream",
     "text": [
      "Hello\n"
     ]
    }
   ],
   "source": [
    "print(\"Hello\")"
   ]
  },
  {
   "cell_type": "code",
   "execution_count": 11,
   "metadata": {},
   "outputs": [
    {
     "name": "stdout",
     "output_type": "stream",
     "text": [
      "1\n",
      "21\n",
      "321\n",
      "4321\n",
      "54321\n"
     ]
    }
   ],
   "source": [
    "#Pattern 8:\n",
    "'''\n",
    "1\n",
    "21\n",
    "321\n",
    "4321\n",
    "54321'''\n",
    "for x in range(1,6):\n",
    "    for y in range(x,0,-1):\n",
    "        print(y,end='')    \n",
    "    print()"
   ]
  },
  {
   "cell_type": "code",
   "execution_count": null,
   "metadata": {},
   "outputs": [],
   "source": [
    "\n",
    "    "
   ]
  },
  {
   "cell_type": "code",
   "execution_count": 1,
   "metadata": {},
   "outputs": [
    {
     "name": "stdout",
     "output_type": "stream",
     "text": [
      "5\n",
      "* * * * * \n",
      "* *   * * \n",
      "*   *   * \n",
      "* *   * * \n",
      "* * * * * \n"
     ]
    }
   ],
   "source": [
    "#Pattern 9:\n",
    "totalrowcol=int(input())\n",
    "rowno=1\n",
    "colno=1\n",
    "for i in range(rowno,totalrowcol+1):\n",
    "    for j in range(colno,totalrowcol+1):\n",
    "        if(j==colno or j==totalrowcol or i==rowno or i==totalrowcol or (i==j) or (i+j)==totalrowcol+1):\n",
    "            print('*',end=' ')\n",
    "        else:\n",
    "            print(' ',end=' ')\n",
    "    print()"
   ]
  },
  {
   "cell_type": "code",
   "execution_count": 2,
   "metadata": {},
   "outputs": [
    {
     "name": "stdout",
     "output_type": "stream",
     "text": [
      "1\n",
      "00\n",
      "111\n",
      "0000\n",
      "11111\n"
     ]
    }
   ],
   "source": [
    "#Pattern 10:\n",
    "'''\n",
    "1\n",
    "00\n",
    "111\n",
    "0000\n",
    "11111'''\n",
    "for x in range(5):\n",
    "    for y in range(x+1):\n",
    "        if(x%2==0):\n",
    "            print('1',end='')\n",
    "        else:\n",
    "            print('0',end='')\n",
    "    print()"
   ]
  },
  {
   "cell_type": "code",
   "execution_count": 8,
   "metadata": {},
   "outputs": [
    {
     "name": "stdout",
     "output_type": "stream",
     "text": [
      "1\n",
      "123\n",
      "12345\n",
      "1234567\n",
      "123456789\n"
     ]
    }
   ],
   "source": [
    "#Pattern 11:\n",
    "'''\n",
    "1\n",
    "123\n",
    "12345\n",
    "1234567\n",
    "123456789'''\n",
    "i=1\n",
    "for x in range(1,6):\n",
    "    for y in range(1,i+1):\n",
    "        print(y,end='')\n",
    "    i=i+2\n",
    "    print()\n"
   ]
  },
  {
   "cell_type": "code",
   "execution_count": 11,
   "metadata": {},
   "outputs": [
    {
     "name": "stdout",
     "output_type": "stream",
     "text": [
      "*****\n",
      "****\n",
      "***\n",
      "**\n",
      "*\n"
     ]
    }
   ],
   "source": [
    "#Pattern 12:\n",
    "'''\n",
    "*****\n",
    "****\n",
    "***\n",
    "**\n",
    "*'''\n",
    "for x in range(5,0,-1):\n",
    "    print('*'*x,end='')\n",
    "    print()"
   ]
  },
  {
   "cell_type": "code",
   "execution_count": null,
   "metadata": {},
   "outputs": [],
   "source": []
  }
 ],
 "metadata": {
  "kernelspec": {
   "display_name": "Python 3",
   "language": "python",
   "name": "python3"
  },
  "language_info": {
   "codemirror_mode": {
    "name": "ipython",
    "version": 3
   },
   "file_extension": ".py",
   "mimetype": "text/x-python",
   "name": "python",
   "nbconvert_exporter": "python",
   "pygments_lexer": "ipython3",
   "version": "3.8.3"
  }
 },
 "nbformat": 4,
 "nbformat_minor": 4
}
