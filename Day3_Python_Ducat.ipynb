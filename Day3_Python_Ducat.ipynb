{
 "cells": [
  {
   "cell_type": "code",
   "execution_count": 4,
   "metadata": {},
   "outputs": [
    {
     "name": "stdout",
     "output_type": "stream",
     "text": [
      "True\n",
      "False\n",
      "True\n"
     ]
    }
   ],
   "source": [
    "#Membership operator\n",
    "#in :- it is used to to find out character from the string\n",
    "#not in :- it is used in negative sense\n",
    "#object-having state\n",
    "#Variable:-which change \n",
    "#obj = 1234\n",
    "obj1='raman'\n",
    "obj2='Raman'\n",
    "#print('r' in obj)#error\n",
    "print('r' in obj1)\n",
    "print('r' in obj2)\n",
    "print('r' not in obj2)"
   ]
  },
  {
   "cell_type": "code",
   "execution_count": 8,
   "metadata": {},
   "outputs": [
    {
     "name": "stdout",
     "output_type": "stream",
     "text": [
      "False\n",
      "True\n",
      "True\n"
     ]
    }
   ],
   "source": [
    "#Identity operator\n",
    "#is :- it is used to identify two objects are equal or not eiter its a number or string\n",
    "#is not\n",
    "a=5\n",
    "b=5\n",
    "print(a is not b)\n",
    "name='ram'\n",
    "name1='ram'\n",
    "print(name is name1)\n",
    "name2='Ram'\n",
    "print(name is not name2)"
   ]
  },
  {
   "cell_type": "code",
   "execution_count": null,
   "metadata": {},
   "outputs": [],
   "source": [
    "#Identifier :- it ia name of obj,class,function etc. and name is always declare with alphabet(A...Z|a...z) or underscore\n",
    "#PVM(Python Virtual Machine) :- its craete a virtual memory\n",
    "#Virtual Memory:-which do not exist in a system,it create at runtime by the use of ram and hard disk space\n"
   ]
  },
  {
   "cell_type": "code",
   "execution_count": 10,
   "metadata": {},
   "outputs": [
    {
     "name": "stdout",
     "output_type": "stream",
     "text": [
      "20\n",
      "35\n",
      "43\n"
     ]
    }
   ],
   "source": [
    "#Asssignment Operators\n",
    "# = Assigns values from right side operands to left side operand\n",
    "# += Add equal\n",
    "# -= Subtract equal\n",
    "# *= Multiply equal\n",
    "# /= Divide equal\n",
    "# %= Modulus equal\n",
    "# **= power equal\n",
    "# //= Floor division equal\n",
    "#we cannot use assignment operator in middle\n",
    "a=10\n",
    "a +=10\n",
    "print(a)\n",
    "a=a+10\n",
    "a +=10-5\n",
    "print(a)\n",
    "b=2\n",
    "a+=b+(3*b)\n",
    "print(a)\n"
   ]
  },
  {
   "cell_type": "code",
   "execution_count": 11,
   "metadata": {},
   "outputs": [
    {
     "name": "stdout",
     "output_type": "stream",
     "text": [
      "0\n",
      "1\n",
      "2\n",
      "3\n",
      "4\n",
      "5\n",
      "6\n",
      "7\n",
      "8\n",
      "9\n"
     ]
    }
   ],
   "source": [
    "#Loop(Meaning iteration)\n",
    "for x in range(10):\n",
    "    print(x)"
   ]
  },
  {
   "cell_type": "code",
   "execution_count": 14,
   "metadata": {},
   "outputs": [
    {
     "name": "stdout",
     "output_type": "stream",
     "text": [
      "54321\n",
      "4321\n",
      "321\n",
      "21\n",
      "1\n"
     ]
    }
   ],
   "source": [
    "#Q 54321\n",
    "#  4321\n",
    "#  321\n",
    "#  21\n",
    "#  1\n",
    "\n",
    "#Step1. Create a loop for reverse mode 5 to 1 step -1\n",
    "#step2. Create second loop for print value start from first loop value until 1\n",
    "#step3. Break the line\n",
    "\n",
    "for x in range(5,0,-1):\n",
    "    for y in range(x,0,-1):\n",
    "        print(y,end='')\n",
    "    else:\n",
    "        print()\n"
   ]
  },
  {
   "cell_type": "code",
   "execution_count": 37,
   "metadata": {},
   "outputs": [
    {
     "name": "stdout",
     "output_type": "stream",
     "text": [
      "     1\n",
      "    121\n",
      "   12321\n",
      "  1234321\n",
      " 123454321\n",
      "  1234321\n",
      "   12321\n",
      "    121\n",
      "     1\n"
     ]
    }
   ],
   "source": [
    "#Q  Homework  #Telegram:-9891794597\n",
    "#     1\n",
    "#    121\n",
    "#   12321\n",
    "#  1234321\n",
    "# 123454321\n",
    "#  1234321\n",
    "#   12321\n",
    "#    121\n",
    "#     1\n",
    "i=1\n",
    "j=1\n",
    "s=5\n",
    "for x in range(5):\n",
    "    print(' '*s,end='')\n",
    "    print(i)\n",
    "    j=j*10+1\n",
    "    i=j*j\n",
    "    s -=1\n",
    "i=1\n",
    "j=j//100\n",
    "s=2\n",
    "for x in range(4):\n",
    "    print(' '*s,end='')\n",
    "    i=j*j\n",
    "    print(i)\n",
    "    j=j//10\n",
    "    s +=1\n"
   ]
  },
  {
   "cell_type": "code",
   "execution_count": null,
   "metadata": {},
   "outputs": [],
   "source": []
  },
  {
   "cell_type": "code",
   "execution_count": null,
   "metadata": {},
   "outputs": [],
   "source": []
  }
 ],
 "metadata": {
  "kernelspec": {
   "display_name": "Python 3",
   "language": "python",
   "name": "python3"
  },
  "language_info": {
   "codemirror_mode": {
    "name": "ipython",
    "version": 3
   },
   "file_extension": ".py",
   "mimetype": "text/x-python",
   "name": "python",
   "nbconvert_exporter": "python",
   "pygments_lexer": "ipython3",
   "version": "3.8.3"
  }
 },
 "nbformat": 4,
 "nbformat_minor": 4
}
